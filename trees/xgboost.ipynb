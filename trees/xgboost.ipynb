{
 "cells": [
  {
   "cell_type": "markdown",
   "metadata": {
    "toc": true
   },
   "source": [
    "<h1>Table of Contents<span class=\"tocSkip\"></span></h1>\n",
    "<div class=\"toc\"><ul class=\"toc-item\"><li><span><a href=\"#XGBoost-API-Walkthrough\" data-toc-modified-id=\"XGBoost-API-Walkthrough-1\"><span class=\"toc-item-num\">1&nbsp;&nbsp;</span>XGBoost API Walkthrough</a></span><ul class=\"toc-item\"><li><span><a href=\"#Preparation\" data-toc-modified-id=\"Preparation-1.1\"><span class=\"toc-item-num\">1.1&nbsp;&nbsp;</span>Preparation</a></span></li><li><span><a href=\"#XGBoost-Basics\" data-toc-modified-id=\"XGBoost-Basics-1.2\"><span class=\"toc-item-num\">1.2&nbsp;&nbsp;</span>XGBoost Basics</a></span></li><li><span><a href=\"#Hyperparamter-Tuning-(Random-Search)\" data-toc-modified-id=\"Hyperparamter-Tuning-(Random-Search)-1.3\"><span class=\"toc-item-num\">1.3&nbsp;&nbsp;</span>Hyperparamter Tuning (Random Search)</a></span></li></ul></li><li><span><a href=\"#Reference\" data-toc-modified-id=\"Reference-2\"><span class=\"toc-item-num\">2&nbsp;&nbsp;</span>Reference</a></span></li></ul></div>"
   ]
  },
  {
   "cell_type": "code",
   "execution_count": 1,
   "metadata": {
    "ExecuteTime": {
     "end_time": "2020-10-27T04:15:48.258777Z",
     "start_time": "2020-10-27T04:15:48.076302Z"
    }
   },
   "outputs": [
    {
     "data": {
      "text/html": [
       "\n",
       "<style>\n",
       "    html {\n",
       "        font-size: 18px !important;\n",
       "    }\n",
       "\n",
       "    body {\n",
       "        background-color: #FFF !important;\n",
       "        font-weight: 1rem;\n",
       "        font-family: 'Source Sans Pro', \"Helvetica Neue\", Helvetica, Arial, sans-serif;\n",
       "    }\n",
       "\n",
       "    body .notebook-app {\n",
       "        background-color: #FFF !important;\n",
       "    }\n",
       "\n",
       "    #header {\n",
       "        box-shadow: none !important;\n",
       "    }\n",
       "\n",
       "    #notebook {\n",
       "        padding-top: 0px;\n",
       "    }\n",
       "\n",
       "    #notebook-container {\n",
       "        box-shadow: none;\n",
       "        -webkit-box-shadow: none;\n",
       "        padding: 10px;\n",
       "    }\n",
       "\n",
       "    div.cell {\n",
       "        width: 1000px;\n",
       "        margin-left: 0% !important;\n",
       "        margin-right: auto;\n",
       "    }\n",
       "\n",
       "    div.cell.selected {\n",
       "        border: 1px dashed #CCCCCC;\n",
       "    }\n",
       "\n",
       "    .edit_mode div.cell.selected {\n",
       "        border: 1px dashed #828282;\n",
       "    }\n",
       "\n",
       "    div.output_wrapper {\n",
       "        margin-top: 8px;\n",
       "    }\n",
       "\n",
       "    a {\n",
       "        color: #383838;\n",
       "    }\n",
       "\n",
       "    code,\n",
       "    kbd,\n",
       "    pre,\n",
       "    samp {\n",
       "        font-family: 'Menlo', monospace !important;\n",
       "        font-size: 0.75rem !important;\n",
       "    }\n",
       "\n",
       "    h1 {\n",
       "        font-size: 2rem !important;\n",
       "        font-weight: 500 !important;\n",
       "        letter-spacing: 3px !important;\n",
       "        text-transform: uppercase !important;\n",
       "    }\n",
       "\n",
       "    h2 {\n",
       "        font-size: 1.8rem !important;\n",
       "        font-weight: 400 !important;\n",
       "        letter-spacing: 3px !important;\n",
       "        text-transform: none !important;\n",
       "    }\n",
       "\n",
       "    h3 {\n",
       "        font-size: 1.5rem !important;\n",
       "        font-weight: 400 !important;\n",
       "        font-style: italic !important;\n",
       "        display: block !important;\n",
       "    }\n",
       "\n",
       "    h4,\n",
       "    h5,\n",
       "    h6 {\n",
       "        font-size: 1rem !important;\n",
       "        font-weight: 400 !important;\n",
       "        display: block !important;\n",
       "    }\n",
       "\n",
       "    .prompt {\n",
       "        font-family: 'Menlo', monospace !important;\n",
       "        font-size: 0.75rem;\n",
       "        text-align: right;\n",
       "        line-height: 1.21429rem;\n",
       "    }\n",
       "\n",
       "    /* INTRO PAGE */\n",
       "\n",
       "    .toolbar_info,\n",
       "    .list-container {\n",
       "        ;\n",
       "    }\n",
       "    /* NOTEBOOK */\n",
       "\n",
       "    div#header-container {\n",
       "        display: none !important;\n",
       "    }\n",
       "\n",
       "    div#notebook {\n",
       "        border-top: none;\n",
       "        font-size: 1rem;\n",
       "    }\n",
       "\n",
       "    div.input_prompt {\n",
       "        color: #C74483;\n",
       "    }\n",
       "\n",
       "    .code_cell div.input_prompt:after,\n",
       "    div.output_prompt:after {\n",
       "        content: '\\25b6';\n",
       "    }\n",
       "\n",
       "    div.output_prompt {\n",
       "        color: #2B88D9;\n",
       "    }\n",
       "\n",
       "    div.input_area {\n",
       "        border-radius: 0px;\n",
       "        border: 1px solid #d8d8d8;\n",
       "    }\n",
       "\n",
       "    div.output_area pre {\n",
       "        font-weight: normal;\n",
       "    }\n",
       "\n",
       "    div.output_subarea {\n",
       "        font-weight: normal;\n",
       "    }\n",
       "\n",
       "    .rendered_html pre,\n",
       "    .rendered_html table,\n",
       "    .rendered_html th,\n",
       "    .rendered_html tr,\n",
       "    .rendered_html td {\n",
       "        border: 1px #828282 solid;\n",
       "        font-size: 0.75rem;\n",
       "        font-family: 'Menlo', monospace;\n",
       "    }\n",
       "\n",
       "    .rendered_html th,\n",
       "    .rendered_html tr,\n",
       "    .rendered_html td {\n",
       "        padding: 5px 10px;\n",
       "    }\n",
       "\n",
       "    .rendered_html th {\n",
       "        font-weight: normal;\n",
       "        background: #f8f8f8;\n",
       "    }\n",
       "\n",
       "    a:link{\n",
       "       font-weight: bold;\n",
       "       color:#447adb;\n",
       "    }\n",
       "    a:visited{\n",
       "       font-weight: bold;\n",
       "       color: #1d3b84;\n",
       "    }\n",
       "    a:hover{\n",
       "       font-weight: bold;\n",
       "       color: #1d3b84;\n",
       "    }\n",
       "    a:focus{\n",
       "       font-weight: bold;\n",
       "       color:#447adb;\n",
       "    }\n",
       "    a:active{\n",
       "       font-weight: bold;\n",
       "       color:#447adb;\n",
       "    }\n",
       "    .rendered_html :link {\n",
       "       text-decoration: underline; \n",
       "    }\n",
       "\n",
       "    div.output_html {\n",
       "        font-weight: 1rem;\n",
       "        font-family: 'Source Sans Pro', \"Helvetica Neue\", Helvetica, Arial, sans-serif;\n",
       "    }\n",
       "\n",
       "    table.dataframe tr {\n",
       "        border: 1px #CCCCCC;\n",
       "    }\n",
       "\n",
       "    div.cell.selected {\n",
       "        border-radius: 0px;\n",
       "    }\n",
       "\n",
       "    div.cell.edit_mode {\n",
       "        border-radius: 0px;\n",
       "        border: thin solid #CF5804;\n",
       "    }\n",
       "\n",
       "    span.ansiblue {\n",
       "        color: #00A397;\n",
       "    }\n",
       "\n",
       "    span.ansigray {\n",
       "        color: #d8d8d8;\n",
       "    }\n",
       "\n",
       "    span.ansigreen {\n",
       "        color: #688A0A;\n",
       "    }\n",
       "\n",
       "    span.ansipurple {\n",
       "        color: #975DDE;\n",
       "    }\n",
       "\n",
       "    span.ansired {\n",
       "        color: #D43132;\n",
       "    }\n",
       "\n",
       "    span.ansiyellow {\n",
       "        color: #D9AA00;\n",
       "    }\n",
       "\n",
       "    div.output_stderr {\n",
       "        background-color: #D43132;\n",
       "    }\n",
       "\n",
       "    div.output_stderr pre {\n",
       "        color: #e8e8e8;\n",
       "    }\n",
       "\n",
       "    .cm-s-ipython.CodeMirror {\n",
       "        background: #F8F8F8;\n",
       "    }\n",
       "\n",
       "    .cm-s-ipython div.CodeMirror-selected {\n",
       "        background: #e8e8e8 !important;\n",
       "    }\n",
       "\n",
       "    .cm-s-ipython .CodeMirror-gutters {\n",
       "        background: #F8F8F8;\n",
       "        border-right: 0px;\n",
       "    }\n",
       "\n",
       "    .cm-s-ipython .CodeMirror-linenumber {\n",
       "        color: #b8b8b8;\n",
       "    }\n",
       "\n",
       "    .cm-s-ipython .CodeMirror-cursor {\n",
       "        border-left: 1px solid #585858 !important;\n",
       "    }\n",
       "\n",
       "    .cm-s-ipython span.cm-atom {\n",
       "        color: #C74483;\n",
       "    }\n",
       "\n",
       "    .cm-s-ipython span.cm-number {\n",
       "        color: #C74483;\n",
       "    }\n",
       "\n",
       "    .cm-s-ipython span.cm-property,\n",
       "    .cm-s-ipython span.cm-attribute {\n",
       "        color: #688A0A;\n",
       "    }\n",
       "\n",
       "    .cm-s-ipython span.cm-keyword {\n",
       "        font-weight: normal;\n",
       "        color: #D43132;\n",
       "    }\n",
       "\n",
       "    .cm-s-ipython span.cm-string {\n",
       "        color: #D9AA00;\n",
       "    }\n",
       "\n",
       "    .cm-s-ipython span.cm-operator {\n",
       "        font-weight: normal;\n",
       "    }\n",
       "\n",
       "    .cm-s-ipython span.cm-builtin {\n",
       "        color: #2B88D9;\n",
       "    }\n",
       "\n",
       "    .cm-s-ipython span.cm-variable {\n",
       "        color: #00A397;\n",
       "    }\n",
       "\n",
       "    .cm-s-ipython span.cm-variable-2 {\n",
       "        color: #2B88D9;\n",
       "    }\n",
       "\n",
       "    .cm-s-ipython span.cm-def {\n",
       "        color: #00A397;\n",
       "    }\n",
       "\n",
       "    .cm-s-ipython span.cm-error {\n",
       "        background: #FFBDBD;\n",
       "        color: #D43132;\n",
       "    }\n",
       "\n",
       "    .cm-s-ipython span.cm-tag {\n",
       "        color: #D43132;\n",
       "    }\n",
       "\n",
       "    .cm-s-ipython span.cm-link {\n",
       "        color: #975DDE;\n",
       "    }\n",
       "\n",
       "    .cm-s-ipython .CodeMirror-matchingbracket {\n",
       "        text-decoration: underline;\n",
       "         !important;\n",
       "    }\n",
       "</style>\n",
       "\n",
       "<script>\n",
       "    MathJax.Hub.Config({\n",
       "                        TeX: {\n",
       "                           extensions: [\"AMSmath.js\"]\n",
       "                           },\n",
       "                tex2jax: {\n",
       "                    inlineMath: [ ['$','$'], [\"\\\\(\",\"\\\\)\"] ],\n",
       "                    displayMath: [ ['$$','$$'], [\"\\\\[\",\"\\\\]\"] ]\n",
       "                },\n",
       "                displayAlign: 'center', // Change this to 'center' to center equations.\n",
       "                \"HTML-CSS\": {\n",
       "                    scale:100,\n",
       "                        availableFonts: [],\n",
       "                        preferredFont:null,\n",
       "                        webFont: \"TeX\",\n",
       "                    styles: {'.MathJax_Display': {\"margin\": 4}}\n",
       "                }\n",
       "        });\n",
       "</script>"
      ],
      "text/plain": [
       "<IPython.core.display.HTML object>"
      ]
     },
     "execution_count": 1,
     "metadata": {},
     "output_type": "execute_result"
    }
   ],
   "source": [
    "# code for loading the format for the notebook\n",
    "import os\n",
    "\n",
    "# path : store the current path to convert back to it later\n",
    "path = os.getcwd()\n",
    "os.chdir(os.path.join('..', 'notebook_format'))\n",
    "\n",
    "from formats import load_style\n",
    "load_style(css_style='custom2.css', plot_style=False)"
   ]
  },
  {
   "cell_type": "code",
   "execution_count": 2,
   "metadata": {
    "ExecuteTime": {
     "end_time": "2020-10-27T04:15:49.775128Z",
     "start_time": "2020-10-27T04:15:48.261384Z"
    }
   },
   "outputs": [
    {
     "name": "stdout",
     "output_type": "stream",
     "text": [
      "Ethen 2020-10-26 21:15:49 \n",
      "\n",
      "CPython 3.6.4\n",
      "IPython 7.15.0\n",
      "\n",
      "numpy 1.18.5\n",
      "pandas 1.0.5\n",
      "xgboost 1.2.1\n",
      "sklearn 0.23.1\n",
      "matplotlib 3.1.0\n"
     ]
    }
   ],
   "source": [
    "os.chdir(path)\n",
    "\n",
    "# 1. magic for inline plot\n",
    "# 2. magic to print version\n",
    "# 3. magic so that the notebook will reload external python modules\n",
    "# 4. magic to enable retina (high resolution) plots\n",
    "# https://gist.github.com/minrk/3301035\n",
    "%matplotlib inline\n",
    "%load_ext watermark\n",
    "%load_ext autoreload\n",
    "%autoreload 2\n",
    "%config InlineBackend.figure_format='retina'\n",
    "\n",
    "import numpy as np\n",
    "import pandas as pd\n",
    "import matplotlib.pyplot as plt\n",
    "from operator import itemgetter\n",
    "from xgboost import XGBClassifier\n",
    "from scipy.stats import randint, uniform\n",
    "from sklearn.metrics import roc_auc_score\n",
    "from sklearn.tree import DecisionTreeClassifier\n",
    "from sklearn.datasets import make_classification\n",
    "from sklearn.model_selection import train_test_split, RandomizedSearchCV\n",
    "\n",
    "%watermark -a 'Ethen' -d -t -v -p numpy,pandas,xgboost,sklearn,matplotlib"
   ]
  },
  {
   "cell_type": "markdown",
   "metadata": {},
   "source": [
    "# XGBoost API Walkthrough"
   ]
  },
  {
   "cell_type": "markdown",
   "metadata": {},
   "source": [
    "Quoted from [Quora: What is the difference between the R gbm (gradient boosting machine) and xgboost (extreme gradient boosting)?](https://www.quora.com/What-is-the-difference-between-the-R-gbm-gradient-boosting-machine-and-xgboost-extreme-gradient-boosting/answer/Tianqi-Chen-1)\n",
    "\n",
    "> Both xgboost (Extreme gradient boosting) and gbm follows the principle of gradient boosting. The name xgboost, though, actually refers to the engineering goal to push the limit of computations resources for boosted tree algorithms. Which is the reason why many people use xgboost. For model, it might be more suitable to be called as regularized gradient boosting, as it uses a more regularized model formalization to control overfitting."
   ]
  },
  {
   "cell_type": "markdown",
   "metadata": {},
   "source": [
    "## Preparation"
   ]
  },
  {
   "cell_type": "markdown",
   "metadata": {},
   "source": [
    "In this toy example, we will be dealing with a **binary classification** task. We start off by generating a 20 dimensional artificial dataset with 1000 samples, where 8 features holding information, 3 are redundant and 2 repeated. And perform a train/test split. The testing data will be useful for validating the performance of our algorithms."
   ]
  },
  {
   "cell_type": "code",
   "execution_count": 3,
   "metadata": {
    "ExecuteTime": {
     "end_time": "2020-10-27T04:15:49.807536Z",
     "start_time": "2020-10-27T04:15:49.777543Z"
    }
   },
   "outputs": [
    {
     "name": "stdout",
     "output_type": "stream",
     "text": [
      "Train label distribution:\n",
      "[396 404]\n",
      "\n",
      "Test label distribution:\n",
      "[106  94]\n"
     ]
    }
   ],
   "source": [
    "seed = 104\n",
    "X, y = make_classification(n_samples=1000, n_features=20, \n",
    "                           n_informative=8, n_redundant=3, \n",
    "                           n_repeated=2, random_state=seed)\n",
    "\n",
    "X_train, X_test, y_train, y_test = train_test_split(X, y, test_size=0.2, random_state=seed)\n",
    "\n",
    "# confirm that the dataset is balanced,\n",
    "# that is the target variable is equally \n",
    "# distributed across both dataset\n",
    "print('Train label distribution:')\n",
    "print(np.bincount(y_train))\n",
    "\n",
    "print('\\nTest label distribution:')\n",
    "print(np.bincount(y_test))"
   ]
  },
  {
   "cell_type": "markdown",
   "metadata": {},
   "source": [
    "We can use a decision tree classifier to establish our baseline and see if a more complex model is capable of beating it."
   ]
  },
  {
   "cell_type": "code",
   "execution_count": 4,
   "metadata": {
    "ExecuteTime": {
     "end_time": "2020-10-27T04:15:49.847533Z",
     "start_time": "2020-10-27T04:15:49.811062Z"
    }
   },
   "outputs": [
    {
     "name": "stdout",
     "output_type": "stream",
     "text": [
      "auc: 0.8474006423123244\n"
     ]
    }
   ],
   "source": [
    "tree = DecisionTreeClassifier(random_state=seed, max_depth=6)\n",
    "\n",
    "# train classifier\n",
    "tree.fit(X_train, y_train)\n",
    "\n",
    "# predict output\n",
    "tree_y_pred = tree.predict(X_test)\n",
    "tree_y_pred_prob = tree.predict_proba(X_test)[:, 1]\n",
    "\n",
    "# evaluation\n",
    "tree_auc = roc_auc_score(y_test, tree_y_pred_prob)\n",
    "print('auc:', tree_auc)"
   ]
  },
  {
   "cell_type": "markdown",
   "metadata": {},
   "source": [
    "## XGBoost Basics"
   ]
  },
  {
   "cell_type": "markdown",
   "metadata": {},
   "source": [
    "We start by training a xgboost model using a fix set of parameters. For further details of the parameter (using scikit-learn like API) refer to the [XGBoost Documentation: Python API documentation](http://xgboost.readthedocs.io/en/latest/python/python_api.html#module-xgboost.sklearn). "
   ]
  },
  {
   "cell_type": "code",
   "execution_count": 5,
   "metadata": {
    "ExecuteTime": {
     "end_time": "2020-10-27T04:15:50.279056Z",
     "start_time": "2020-10-27T04:15:49.849649Z"
    }
   },
   "outputs": [
    {
     "data": {
      "text/plain": [
       "XGBClassifier(base_score=0.5, booster='gbtree', colsample_bylevel=1,\n",
       "              colsample_bynode=1, colsample_bytree=0.8, gamma=0, gpu_id=-1,\n",
       "              importance_type='gain', interaction_constraints='',\n",
       "              learning_rate=0.1, max_delta_step=1, max_depth=6,\n",
       "              min_child_weight=1, missing=nan, monotone_constraints='()',\n",
       "              n_estimators=150, n_jobs=-1, num_parallel_tree=1, random_state=0,\n",
       "              reg_alpha=0, reg_lambda=1, scale_pos_weight=1, subsample=1,\n",
       "              tree_method='exact', validate_parameters=1, verbosity=None)"
      ]
     },
     "execution_count": 5,
     "metadata": {},
     "output_type": "execute_result"
    }
   ],
   "source": [
    "xgb_params_fixed = {\n",
    "    'learning_rate': 0.1,\n",
    "    \n",
    "    # use 'multi:softprob' for multi-class problems\n",
    "    'objective': 'binary:logistic',\n",
    "    \n",
    "    # length of the longest path from a root to a leaf\n",
    "    'max_depth': 6,\n",
    "    \n",
    "    # subsample ratio of columns when constructing each tree\n",
    "    'colsample_bytree': 0.8,\n",
    "    \n",
    "    # setting it to a positive value \n",
    "    # might help when class is extremely imbalanced\n",
    "    # as it makes the update more conservative\n",
    "    'max_delta_step': 1, \n",
    "    'n_estimators': 150,\n",
    "    \n",
    "    # use all possible cores for training\n",
    "    'n_jobs': -1\n",
    "}\n",
    "model_xgb = XGBClassifier(**xgb_params_fixed)\n",
    "\n",
    "# we also specify the evaluation dataset and metric\n",
    "# to record the model's performance history, note that\n",
    "# we can supply multiple evaluation metric by passig a \n",
    "# list to `eval_metric`\n",
    "eval_set = [(X_train, y_train), (X_test, y_test)]\n",
    "model_xgb.fit(X_train, y_train, eval_metric='auc', eval_set=eval_set, verbose=False)"
   ]
  },
  {
   "cell_type": "markdown",
   "metadata": {},
   "source": [
    "We can retrieve the performance of the model on the evaluation dataset and plot it to get insight into the training process. The `evals_results_` dictionary stores the `validation_0` and `validation_1` as its first key. This corresponds to the order that datasets were provided to the `eval_set` argument. The second key is the `eval_metric` that were provided."
   ]
  },
  {
   "cell_type": "code",
   "execution_count": 6,
   "metadata": {
    "ExecuteTime": {
     "end_time": "2020-10-27T04:15:51.082494Z",
     "start_time": "2020-10-27T04:15:50.280843Z"
    }
   },
   "outputs": [
    {
     "data": {
      "image/png": "[encoded data removed]",
      "text/plain": [
       "<Figure size 720x576 with 1 Axes>"
      ]
     },
     "metadata": {
      "image/png": {
       "height": 485,
       "width": 622
      },
      "needs_background": "light"
     },
     "output_type": "display_data"
    }
   ],
   "source": [
    "# change default figure and font size\n",
    "plt.rcParams['figure.figsize'] = 10, 8\n",
    "plt.rcParams['font.size'] = 12\n",
    "\n",
    "\n",
    "history = model_xgb.evals_result_\n",
    "x_axis = range(len(history['validation_0']['auc']))\n",
    "plt.plot(x_axis, history['validation_0']['auc'], label='Train')\n",
    "plt.plot(x_axis, history['validation_1']['auc'], label='Test')\n",
    "plt.legend(loc = 'best')\n",
    "plt.ylabel('AUC')\n",
    "plt.title('Xgboost AUC')\n",
    "plt.show()"
   ]
  },
  {
   "cell_type": "markdown",
   "metadata": {},
   "source": [
    "From reviewing the plot, it looks like there is an opportunity to stop the learning early, since the auc score for the testing dataset stopped increasing around 80 estimators. Luckily, xgboost supports this functionality.\n",
    "\n",
    "Early stopping works by monitoring the performance of the model that is being trained on a separate validation or test dataset and stopping the training procedure once the performance on the validation or test dataset has not improved after a fixed number of training iterations (we can specify the number). This will potentially save us a lot of time from training a model that does not improve its performance over time.\n",
    "\n",
    "The evaluation measure may be the loss function that is being optimized to train the model (such as logarithmic loss), or an external metric of interest to the problem in general (such as the auc score that we've used above). The full list of performace measure that we can directly specify can be found at the `eval_metric` section of the [XGBoost Doc: Learning Task Parameters](http://xgboost.readthedocs.io/en/latest//parameter.html#learning-task-parameters).\n",
    "\n",
    "In addition to specifying a evaluation metric and dataset, to use early stopping we also need to specify the `early_stopping_rounds`. This is essentially telling the model to stop the training process if the evaluation dataset's evaluation metric does not improve over this many rounds. Note that if multiple evaluation datasets or multiple evaluation metrics are provided in a list, then early stopping will use the last one in the list.\n",
    "\n",
    "For example, we can check for no improvement in auc over the 10 rounds as follows:"
   ]
  },
  {
   "cell_type": "code",
   "execution_count": 7,
   "metadata": {
    "ExecuteTime": {
     "end_time": "2020-10-27T04:15:51.223935Z",
     "start_time": "2020-10-27T04:15:51.084361Z"
    }
   },
   "outputs": [
    {
     "name": "stdout",
     "output_type": "stream",
     "text": [
      "[0]\tvalidation_0-auc:0.93333\tvalidation_1-auc:0.84318\n",
      "Multiple eval metrics have been passed: 'validation_1-auc' will be used for early stopping.\n",
      "\n",
      "Will train until validation_1-auc hasn't improved in 5 rounds.\n",
      "[10]\tvalidation_0-auc:0.99316\tvalidation_1-auc:0.94866\n",
      "[20]\tvalidation_0-auc:0.99884\tvalidation_1-auc:0.95905\n",
      "[30]\tvalidation_0-auc:0.99969\tvalidation_1-auc:0.95925\n",
      "Stopping. Best iteration:\n",
      "[27]\tvalidation_0-auc:0.99951\tvalidation_1-auc:0.96016\n",
      "\n",
      "best iteration 28\n"
     ]
    }
   ],
   "source": [
    "# we set verbose to 10 so that it will print out the evaluation metric for the\n",
    "# evaluation dataset for every 10 round\n",
    "model_xgb.fit(X_train, y_train, \n",
    "              eval_metric = 'auc', eval_set = eval_set,\n",
    "              early_stopping_rounds = 5, verbose = 10)\n",
    "\n",
    "# we can then access the best number of tree and use it later for prediction\n",
    "print('best iteration', model_xgb.best_ntree_limit)"
   ]
  },
  {
   "cell_type": "markdown",
   "metadata": {},
   "source": [
    "Keep in mind that XGBoost will return the model from the last iteration, not the best one. Hence when making the prediction, we need to pass the `ntree_limit` parameter to ensure that we get the optimal model's prediction. And we can see from the result below that this is already better than our original decision tree model."
   ]
  },
  {
   "cell_type": "code",
   "execution_count": 8,
   "metadata": {
    "ExecuteTime": {
     "end_time": "2020-10-27T04:15:51.260006Z",
     "start_time": "2020-10-27T04:15:51.226103Z"
    }
   },
   "outputs": [
    {
     "name": "stdout",
     "output_type": "stream",
     "text": [
      "auc: 0.9601565636290647\n"
     ]
    }
   ],
   "source": [
    "# print the model's performance\n",
    "ntree_limit = model_xgb.best_ntree_limit\n",
    "y_pred_prob = model_xgb.predict_proba(X_test, ntree_limit=ntree_limit)[:, 1]\n",
    "print('auc:', roc_auc_score(y_test, y_pred_prob))"
   ]
  },
  {
   "cell_type": "code",
   "execution_count": 9,
   "metadata": {
    "ExecuteTime": {
     "end_time": "2020-10-27T04:15:51.298016Z",
     "start_time": "2020-10-27T04:15:51.262298Z"
    }
   },
   "outputs": [],
   "source": [
    "def plot_xgboost_importance(xgboost_model, feature_names, threshold=5):\n",
    "    \"\"\"\n",
    "    Improvements on xgboost's plot_importance function, where \n",
    "    1. the importance are scaled relative to the max importance, and \n",
    "    number that are below 5% of the max importance will be chopped off\n",
    "    2. we need to supply the actual feature name so the label won't \n",
    "    just show up as feature 1, feature 2, which are not very interpretable\n",
    "    \n",
    "    returns the important features's index sorted in descending order\n",
    "    \"\"\"\n",
    "    # convert from dictionary to tuples and sort by the\n",
    "    # importance score in ascending order for plotting purpose\n",
    "    importance = xgboost_model.get_booster().get_score(importance_type='gain')\n",
    "    tuples = [(int(k[1:]), importance[k]) for k in importance]\n",
    "    tuples = sorted(tuples, key = itemgetter(1))\n",
    "    labels, values = zip(*tuples)\n",
    "\n",
    "    # make importances relative to max importance,\n",
    "    # and filter out those that have smaller than 5%\n",
    "    # relative importance (threshold chosen arbitrarily)\n",
    "    labels, values = np.array(labels), np.array(values)\n",
    "    values = np.round(100 * values / np.max(values), 2)\n",
    "    mask = values > threshold\n",
    "    labels, values = labels[mask], values[mask]\n",
    "    feature_labels = feature_names[labels]\n",
    "\n",
    "    ylocs = np.arange(values.shape[0])\n",
    "    plt.barh(ylocs, values, align='center')\n",
    "    for x, y in zip(values, ylocs):\n",
    "        plt.text(x + 1, y, x, va='center')\n",
    "\n",
    "    plt.ylabel('Features')\n",
    "    plt.xlabel('Relative Importance Score')\n",
    "    plt.title('Feature Importance Score')\n",
    "    plt.xlim([0, 110])\n",
    "    plt.yticks(ylocs, feature_labels)\n",
    "\n",
    "    # revert the ordering of the importance\n",
    "    return labels[::-1]"
   ]
  },
  {
   "cell_type": "code",
   "execution_count": 10,
   "metadata": {
    "ExecuteTime": {
     "end_time": "2020-10-27T04:15:52.013670Z",
     "start_time": "2020-10-27T04:15:51.299978Z"
    }
   },
   "outputs": [
    {
     "data": {
      "text/plain": [
       "array([ 3, 17, 15,  2, 19, 13, 10,  9,  7,  6, 16,  1, 18, 12,  5,  4, 14,\n",
       "       11,  8])"
      ]
     },
     "execution_count": 10,
     "metadata": {},
     "output_type": "execute_result"
    },
    {
     "data": {
      "image/png": "[encoded data removed]",
      "text/plain": [
       "<Figure size 720x576 with 1 Axes>"
      ]
     },
     "metadata": {
      "image/png": {
       "height": 501,
       "width": 610
      },
      "needs_background": "light"
     },
     "output_type": "display_data"
    }
   ],
   "source": [
    "# we don't actually have the feature's actual name as those\n",
    "# were simply randomly generated numbers, thus we simply supply\n",
    "# a number ranging from 0 ~ the number of features\n",
    "feature_names = np.arange(X_train.shape[1])\n",
    "plot_xgboost_importance(xgboost_model=model_xgb, feature_names=feature_names)"
   ]
  },
  {
   "cell_type": "markdown",
   "metadata": {},
   "source": [
    "Side note: Apart from using the built-in evaluation metric, we can also define one ourselves. The evaluation metric should be a function that takes two argument y_pred, y_true (it doesn't have to named like this). It is assumed that y_true will be a DMatrix object so that we can call the `get_label` method to access the true labels. As for the return value, the function ust return a str, value pair where the str is a name for the evaluation metric and value is the value of the evaluation. This objective is always minimized."
   ]
  },
  {
   "cell_type": "code",
   "execution_count": 11,
   "metadata": {
    "ExecuteTime": {
     "end_time": "2020-10-27T04:15:52.143902Z",
     "start_time": "2020-10-27T04:15:52.015974Z"
    }
   },
   "outputs": [
    {
     "name": "stdout",
     "output_type": "stream",
     "text": [
      "[0]\tvalidation_0-error:0.08625\tvalidation_1-error:0.17000\tvalidation_0-misclassified:404.00000\tvalidation_1-misclassified:94.00000\n",
      "Multiple eval metrics have been passed: 'validation_1-misclassified' will be used for early stopping.\n",
      "\n",
      "Will train until validation_1-misclassified hasn't improved in 5 rounds.\n",
      "[10]\tvalidation_0-error:0.04125\tvalidation_1-error:0.10500\tvalidation_0-misclassified:34.00000\tvalidation_1-misclassified:23.00000\n",
      "[20]\tvalidation_0-error:0.02125\tvalidation_1-error:0.09500\tvalidation_0-misclassified:17.00000\tvalidation_1-misclassified:20.00000\n",
      "Stopping. Best iteration:\n",
      "[17]\tvalidation_0-error:0.03000\tvalidation_1-error:0.09500\tvalidation_0-misclassified:19.00000\tvalidation_1-misclassified:20.00000\n",
      "\n",
      "auc: 0.9568446407065435\n"
     ]
    }
   ],
   "source": [
    "def misclassified(y_pred, y_true):\n",
    "    \"\"\"\n",
    "    custom evaluation metric for xgboost, the metric\n",
    "    counts the number of misclassified examples assuming \n",
    "    that classes with p>0.5 are positive\n",
    "    \"\"\"\n",
    "    labels = y_true.get_label() # obtain true labels\n",
    "    preds = y_pred > 0.5 # obtain predicted values\n",
    "    return 'misclassified', np.sum(labels != preds)\n",
    "\n",
    "\n",
    "model_xgb.fit(X_train, y_train, \n",
    "              eval_metric=misclassified, eval_set=eval_set,\n",
    "              early_stopping_rounds=5, verbose=10)\n",
    "\n",
    "ntree_limit = model_xgb.best_ntree_limit\n",
    "y_pred_prob = model_xgb.predict_proba(X_test, ntree_limit=ntree_limit)[:, 1]\n",
    "print('auc:', roc_auc_score(y_test, y_pred_prob))"
   ]
  },
  {
   "cell_type": "markdown",
   "metadata": {},
   "source": [
    "Another example of writing the customized rsquared evaluation metric.\n",
    "\n",
    "```python\n",
    "def rsquared(y_pred, y_true):\n",
    "    \"\"\"rsquared evaluation metric for xgboost's regression\"\"\"\n",
    "    labels = y_true.get_label()\n",
    "    sse = np.sum((labels - y_pred) ** 2)\n",
    "    sst = np.sum((labels - np.mean(labels)) ** 2)\n",
    "    rsquared = 1 - sse / sst\n",
    "    \n",
    "    # note that the documentation says the \n",
    "    # objective function is minimized, thus\n",
    "    # we take the negative sign of rsquared\n",
    "    return 'r2', -rsquared\n",
    "```"
   ]
  },
  {
   "cell_type": "markdown",
   "metadata": {},
   "source": [
    "## Hyperparamter Tuning (Random Search)"
   ]
  },
  {
   "cell_type": "markdown",
   "metadata": {},
   "source": [
    "\n",
    "Next, since overfitting is a common problem with sophisticated algorithms like gradient boosting, we'll introduce ways to tune the model's hyperparameter and deal with them. If a xgboost model is too complex we can try:\n",
    "\n",
    "- Reduce `max_depth`, the depth of each tree.\n",
    "- Increase `min_child_weight`, minimum sum of observation's weight needed in a child (think of it as the number of observation's needed in a tree's node).\n",
    "- Increase `gamma`, the minimum loss reduction required to make a further partition.\n",
    "- Increase regularization parameters, `reg_lambda` (l2 regularization) and `reg_alpha` (l1 regularization).\n",
    "- Add more randomness by using `subsample` (the fraction of observations to be randomly samples for fitting each tree), `colsample_bytree` (the fraction of columns to be randomly samples for fitting each tree) parameters.\n",
    "\n",
    "We'll use a [`Random Search`](http://scikit-learn.org/stable/modules/grid_search.html#randomized-parameter-optimization) to tune the model's hyperparameter."
   ]
  },
  {
   "cell_type": "code",
   "execution_count": 12,
   "metadata": {
    "ExecuteTime": {
     "end_time": "2020-10-27T04:15:52.189071Z",
     "start_time": "2020-10-27T04:15:52.151972Z"
    }
   },
   "outputs": [],
   "source": [
    "def build_xgboost(X_train, y_train, X_test, y_test, n_iter):\n",
    "    \"\"\"\n",
    "    random search hyperparameter tuning for xgboost\n",
    "    classification task, n_iter controls the number\n",
    "    of hyperparameter combinations that it will search for\n",
    "    \"\"\"\n",
    "    # xgboost base parameter:\n",
    "    xgb_param_fixed = {        \n",
    "        # setting it to a positive value \n",
    "        # might help when class is extremely imbalanced\n",
    "        # as it makes the update more conservative\n",
    "        'max_delta_step': 1,\n",
    "            \n",
    "        # use all possible cores for training\n",
    "        'n_jobs': -1,\n",
    "        \n",
    "        # set number of estimator to a large number\n",
    "        # and the learning rate to be a small number,\n",
    "        # we'll let early stopping decide when to stop\n",
    "        'n_estimators': 300,\n",
    "        'learning_rate': 0.1}\n",
    "    xgb_base = XGBClassifier(**xgb_param_fixed)\n",
    "\n",
    "    # random search's parameter:\n",
    "    # scikit-learn's random search works with distributions; \n",
    "    # but it must provide a rvs method for sampling values from it,\n",
    "    # such as those from scipy.stats.distributions\n",
    "    # randint: discrete random variables ranging from low to high\n",
    "    # uniform: uniform continuous random variable between loc and loc + scale\n",
    "    xgb_param_options = {\n",
    "        'max_depth': randint(low=3, high=15),\n",
    "        'colsample_bytree': uniform(loc=0.7, scale=0.3),\n",
    "        'subsample': uniform(loc=0.7, scale=0.3)}\n",
    "    \n",
    "    eval_set = [(X_train, y_train), (X_test, y_test)]\n",
    "    xgb_fit_params = {   \n",
    "        'eval_metric': 'auc', \n",
    "        'eval_set': eval_set,\n",
    "        'early_stopping_rounds': 5,\n",
    "        'verbose': False\n",
    "    }\n",
    "\n",
    "    model_xgb = RandomizedSearchCV(\n",
    "        estimator=xgb_base,\n",
    "        param_distributions=xgb_param_options,\n",
    "        cv=10,   \n",
    "        \n",
    "        # number of parameter settings that are sampled\n",
    "        n_iter=n_iter,\n",
    "        \n",
    "        # n_jobs can be a parameter (since it's a fast task\n",
    "        # for this toy dataset, we'll simply we using 1 jobs)\n",
    "        n_jobs=1,\n",
    "        verbose=1\n",
    "    ).fit(X_train, y_train, **xgb_fit_params)\n",
    "    \n",
    "    print('Best score obtained: {0}'.format(model_xgb.best_score_))\n",
    "    print('Best Parameters:')\n",
    "    for param, value in model_xgb.best_params_.items():\n",
    "        print('\\t{}: {}'.format(param, value))\n",
    "\n",
    "    return model_xgb.best_estimator_"
   ]
  },
  {
   "cell_type": "code",
   "execution_count": 13,
   "metadata": {
    "ExecuteTime": {
     "end_time": "2020-10-27T04:16:02.696424Z",
     "start_time": "2020-10-27T04:15:52.194855Z"
    }
   },
   "outputs": [
    {
     "name": "stdout",
     "output_type": "stream",
     "text": [
      "Fitting 10 folds for each of 15 candidates, totalling 150 fits\n"
     ]
    },
    {
     "name": "stderr",
     "output_type": "stream",
     "text": [
      "[Parallel(n_jobs=1)]: Using backend SequentialBackend with 1 concurrent workers.\n"
     ]
    },
    {
     "name": "stdout",
     "output_type": "stream",
     "text": [
      "Best score obtained: 0.9024999999999999\n",
      "Best Parameters:\n",
      "\tcolsample_bytree: 0.7366225334921709\n",
      "\tmax_depth: 8\n",
      "\tsubsample: 0.8941462191996388\n",
      "auc: 0.9646728221597751\n"
     ]
    },
    {
     "name": "stderr",
     "output_type": "stream",
     "text": [
      "[Parallel(n_jobs=1)]: Done 150 out of 150 | elapsed:   10.4s finished\n"
     ]
    }
   ],
   "source": [
    "xgb_model = build_xgboost(X_train, y_train, X_test, y_test, n_iter=15)\n",
    "ntree_limit = xgb_model.best_ntree_limit\n",
    "y_pred_prob = xgb_model.predict_proba(X_test, ntree_limit=ntree_limit)[:, 1]\n",
    "print('auc:', roc_auc_score(y_test, y_pred_prob))"
   ]
  },
  {
   "cell_type": "markdown",
   "metadata": {},
   "source": [
    "# Reference"
   ]
  },
  {
   "cell_type": "markdown",
   "metadata": {},
   "source": [
    "- [Online Course: practical xgboost in python](https://parrotprediction.teachable.com/p/practical-xgboost-in-python)\n",
    "- [XGBoost Documentation: Python API documentation](http://xgboost.readthedocs.io/en/latest/python/python_api.html)\n",
    "- [Blog: Complete Guide to Parameter Tuning in XGBoost](https://www.analyticsvidhya.com/blog/2016/03/complete-guide-parameter-tuning-xgboost-with-codes-python/)\n",
    "- [Blog: Avoid Overfitting By Early Stopping With XGBoost In Python](http://machinelearningmastery.com/avoid-overfitting-by-early-stopping-with-xgboost-in-python/)"
   ]
  }
 ],
 "metadata": {
  "anaconda-cloud": {},
  "kernelspec": {
   "display_name": "Python 3",
   "language": "python",
   "name": "python3"
  },
  "language_info": {
   "codemirror_mode": {
    "name": "ipython",
    "version": 3
   },
   "file_extension": ".py",
   "mimetype": "text/x-python",
   "name": "python",
   "nbconvert_exporter": "python",
   "pygments_lexer": "ipython3",
   "version": "3.6.4"
  },
  "toc": {
   "nav_menu": {
    "height": "122px",
    "width": "252px"
   },
   "number_sections": true,
   "sideBar": true,
   "skip_h1_title": false,
   "title_cell": "Table of Contents",
   "title_sidebar": "Contents",
   "toc_cell": true,
   "toc_position": {
    "height": "calc(100% - 180px)",
    "left": "10px",
    "top": "150px",
    "width": "331px"
   },
   "toc_section_display": "block",
   "toc_window_display": true
  },
  "varInspector": {
   "cols": {
    "lenName": 16,
    "lenType": 16,
    "lenVar": 40
   },
   "kernels_config": {
    "python": {
     "delete_cmd_postfix": "",
     "delete_cmd_prefix": "del ",
     "library": "var_list.py",
     "varRefreshCmd": "print(var_dic_list())"
    },
    "r": {
     "delete_cmd_postfix": ") ",
     "delete_cmd_prefix": "rm(",
     "library": "var_list.r",
     "varRefreshCmd": "cat(var_dic_list()) "
    }
   },
   "types_to_exclude": [
    "module",
    "function",
    "builtin_function_or_method",
    "instance",
    "_Feature"
   ],
   "window_display": false
  }
 },
 "nbformat": 4,
 "nbformat_minor": 1
}
